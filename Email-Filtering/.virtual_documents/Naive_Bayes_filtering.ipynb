


#import libraries
import numpy as np
import pandas as pd

from tabulate import tabulate
from sklearn.metrics import accuracy_score, precision_score, recall_score, f1_score, classification_report, confusion_matrix
from sklearn.model_selection import train_test_split
from sklearn.feature_extraction.text import CountVectorizer
from sklearn.naive_bayes import MultinomialNB


#import the data from csv
df = pd.read_csv("spam.csv")
df


#deleting Category and also creating a new column to transform the category into a numerical label
df["spam"] = df["Category"].apply(lambda x: 1 if x=="spam" else 0)
if "Category" in df:
    df = df.drop("Category", axis = 1)
df


#split the data
x_train, x_test, y_train, y_test = train_test_split(df.Message, df.spam, test_size=0.2)


#convert the data to matrix
cv = CountVectorizer()
x_train_cnt = cv.fit_transform(x_train.values)
x_train_cnt.toarray()


# training the model
model = MultinomialNB()
model.fit(x_train_cnt, y_train)


# test with a simple test ('ham')
email_test = ["hey, let's play marvel rivals?"]
email_test_cnt = cv.transform(email_test)
model.predict(email_test_cnt)


# test with a simple test ('spam')
email_test_2 = ["FREE VIAGRA CLICK NOW"]
email_test_cnt_2 = cv.transform(email_test_2)
model.predict(email_test_cnt_2)


# Calculate Metrics
x_test_cnt = cv.transform(x_test)  
y_pred = model.predict(x_test_cnt)  # Store predictions

accuracy = accuracy_score(y_test, y_pred)
precision = precision_score(y_test, y_pred)
recall = recall_score(y_test, y_pred)
f1 = f1_score(y_test, y_pred)

# Create a DataFrame for results
results = pd.DataFrame({
    "Metric": ["Accuracy", "Precision", "Recall", "F1 Score"],
    "Score": [accuracy, precision, recall, f1]
})

# Print as a table
print(tabulate(results, headers='keys', tablefmt='fancy_grid'))
