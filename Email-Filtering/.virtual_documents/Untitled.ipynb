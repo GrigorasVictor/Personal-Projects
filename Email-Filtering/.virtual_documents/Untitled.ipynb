





#import libraries
import numpy as np
import pandas as pd

from sklearn.model_selection import train_test_split
from sklearn.feature_extraction.text import CountVectorizer
from sklearn.naive_bayes import MultinomialNB


#import the data from csv
df = pd.read_csv("spam.csv")


#deleting Category and also creating a new column to transform the category into a numerical label
df["spam"] = df["Category"].apply(lambda x: 1 if x=="spam" else 0)
df.drop("Category")



