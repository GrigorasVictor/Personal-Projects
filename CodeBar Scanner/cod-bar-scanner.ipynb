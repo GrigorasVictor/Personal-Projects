{
 "cells": [
  {
   "cell_type": "code",
   "id": "initial_id",
   "metadata": {
    "collapsed": true,
    "ExecuteTime": {
     "end_time": "2025-05-02T18:43:28.611398Z",
     "start_time": "2025-05-02T18:43:28.608218Z"
    }
   },
   "source": [
    "import cv2\n",
    "from tkinter import Tk\n",
    "from tkinter.filedialog import askopenfilename\n",
    "\n",
    "from IPython.core.display import Markdown"
   ],
   "outputs": [],
   "execution_count": 11
  },
  {
   "metadata": {
    "ExecuteTime": {
     "end_time": "2025-05-02T18:43:28.635270Z",
     "start_time": "2025-05-02T18:43:28.631019Z"
    }
   },
   "cell_type": "code",
   "source": [
    "def select_and_load_image():\n",
    "    Tk().withdraw()\n",
    "    image_path = askopenfilename(filetypes=[(\"Image files\", \"*.jpg;*.jpeg;*.png;*.bmp;*.tiff\")])\n",
    "\n",
    "    if not image_path:\n",
    "        print(\"No file selected.\")\n",
    "        return None\n",
    "\n",
    "    # Load the selected image\n",
    "    image = cv2.imread(image_path, cv2.IMREAD_COLOR)\n",
    "    if image is None:\n",
    "        raise FileNotFoundError(f\"Failed to load image from path: {image_path}\")\n",
    "\n",
    "    return image, cv2.cvtColor(image, cv2.COLOR_BGR2GRAY)\n",
    "\n",
    "def display_image_cv(image, title=\"Selected Image\"):\n",
    "    image = cv2.resize(image, (800, 600))\n",
    "    cv2.imshow(title, image)\n",
    "    cv2.waitKey(0)\n",
    "    cv2.destroyAllWindows()"
   ],
   "id": "47d82ce1f30785d6",
   "outputs": [],
   "execution_count": 12
  },
  {
   "metadata": {
    "ExecuteTime": {
     "end_time": "2025-05-02T18:43:35.777073Z",
     "start_time": "2025-05-02T18:43:28.655738Z"
    }
   },
   "cell_type": "code",
   "source": [
    "image, image_grey = select_and_load_image()\n",
    "display_image_cv(image, \"Original image\")\n",
    "display_image_cv(image_grey, \"Greyscale image\")"
   ],
   "id": "e4a535289a662e65",
   "outputs": [],
   "execution_count": 13
  },
  {
   "metadata": {},
   "cell_type": "markdown",
   "source": "### Importing YOLOv11n model for barcode detection and training",
   "id": "88ac6beda06bec31"
  },
  {
   "metadata": {
    "ExecuteTime": {
     "end_time": "2025-05-02T18:43:35.889589Z",
     "start_time": "2025-05-02T18:43:35.799030Z"
    }
   },
   "cell_type": "code",
   "source": [
    "from ultralytics import YOLO\n",
    "import torch\n",
    "\n",
    "model = YOLO(\"yolo11s.pt\")\n",
    "device = torch.device(\"cuda:0\" if torch.cuda.is_available() else \"cpu\")\n",
    "\n",
    "device"
   ],
   "id": "2f5d298ac1bc4a1a",
   "outputs": [
    {
     "data": {
      "text/plain": [
       "device(type='cuda', index=0)"
      ]
     },
     "execution_count": 14,
     "metadata": {},
     "output_type": "execute_result"
    }
   ],
   "execution_count": 14
  },
  {
   "metadata": {
    "ExecuteTime": {
     "end_time": "2025-05-02T18:43:35.930229Z",
     "start_time": "2025-05-02T18:43:35.925277Z"
    }
   },
   "cell_type": "code",
   "source": [
    "from pathlib import Path\n",
    "\n",
    "if not Path('barcode-scanner.pt').exists():\n",
    "    save_path = Path('C:\\\\Stuff\\\\Scoala\\\\An III\\\\PI\\\\code-bar-qr-scanner\\\\save')\n",
    "    save_path.mkdir(parents=True, exist_ok=True)  # Ensure the directory exists\n",
    "\n",
    "    model.train(\n",
    "        data=\"ZVZ-real/dataset/dataset.yaml\",\n",
    "        epochs=10,\n",
    "        imgsz=921,\n",
    "        batch=12,\n",
    "        device=device,\n",
    "        project=str(save_path),  # Root directory for saving\n",
    "        name=\"code-bar-qr-scanner\",\n",
    "        verbose=True,\n",
    "        cache=False)\n",
    "else:\n",
    "    print(\"Model already trained and saved as barcode-scanner.pt\")"
   ],
   "id": "b42500696abc2063",
   "outputs": [
    {
     "name": "stdout",
     "output_type": "stream",
     "text": [
      "Model already trained and saved as barcode-scanner.pt\n"
     ]
    }
   ],
   "execution_count": 15
  },
  {
   "metadata": {},
   "cell_type": "markdown",
   "source": "### Predicting how well the model works",
   "id": "9f278ef2aaf1aa55"
  },
  {
   "metadata": {
    "ExecuteTime": {
     "end_time": "2025-05-02T18:56:43.935638Z",
     "start_time": "2025-05-02T18:56:25.219582Z"
    }
   },
   "cell_type": "code",
   "source": [
    "model = YOLO(\"barcode-scanner.pt\")\n",
    "image, _ = select_and_load_image()\n",
    "\n",
    "predict = model.predict(image, conf=0.6, iou=0.5, device=device)\n",
    "res_plotted = predict[0].plot()\n",
    "display_image_cv(res_plotted, 'Predicted image')"
   ],
   "id": "f7aaa5cf0de17fbc",
   "outputs": [
    {
     "name": "stdout",
     "output_type": "stream",
     "text": [
      "\n",
      "0: 544x928 2 EAN13s, 1 QRCode, 11.3ms\n",
      "Speed: 3.8ms preprocess, 11.3ms inference, 1.6ms postprocess per image at shape (1, 3, 544, 928)\n"
     ]
    }
   ],
   "execution_count": 24
  }
 ],
 "metadata": {
  "kernelspec": {
   "display_name": "Python 3",
   "language": "python",
   "name": "python3"
  },
  "language_info": {
   "codemirror_mode": {
    "name": "ipython",
    "version": 2
   },
   "file_extension": ".py",
   "mimetype": "text/x-python",
   "name": "python",
   "nbconvert_exporter": "python",
   "pygments_lexer": "ipython2",
   "version": "2.7.6"
  }
 },
 "nbformat": 4,
 "nbformat_minor": 5
}
