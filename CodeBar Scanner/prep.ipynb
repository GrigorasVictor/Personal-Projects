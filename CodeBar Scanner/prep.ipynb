{
 "cells": [
  {
   "cell_type": "code",
   "id": "679aceb48f447faa",
   "metadata": {
    "ExecuteTime": {
     "end_time": "2025-05-02T16:27:57.257649Z",
     "start_time": "2025-05-02T16:27:57.254275Z"
    }
   },
   "source": [
    "import shutil\n",
    "import xml.etree.ElementTree as ET\n",
    "from pathlib import Path\n",
    "from typing import Dict, List, Tuple\n",
    "import numpy as np\n",
    "import yaml\n",
    "from PIL import Image\n",
    "from skmultilearn.model_selection import iterative_train_test_split"
   ],
   "outputs": [],
   "execution_count": 31
  },
  {
   "metadata": {
    "ExecuteTime": {
     "end_time": "2025-05-02T16:27:57.277584Z",
     "start_time": "2025-05-02T16:27:57.273309Z"
    }
   },
   "cell_type": "code",
   "source": [
    "def convert_images(dir_path: Path) -> None:\n",
    "    \"\"\"Convert all images to .jpg format with validation\"\"\"\n",
    "    converted = []\n",
    "    for f in dir_path.glob(\"*\"):\n",
    "        if f.suffix.lower() in {\".tif\", \".jpeg\", \".png\", \".tiff\"}:\n",
    "            Image.open(f).save(f.with_suffix(\".jpg\"))\n",
    "            f.unlink()\n",
    "            converted.append(f.stem)\n",
    "\n",
    "    existing = {f.stem for f in dir_path.glob(\"*.jpg\")}\n",
    "    if lost := set(converted) - existing:\n",
    "        print(f\"Conversion failed for {len(lost)} files: {lost}\")\n",
    "    print(f\"Converted {len(existing)} images to JPG\")"
   ],
   "id": "9ab723107588f23d",
   "outputs": [],
   "execution_count": 32
  },
  {
   "metadata": {
    "ExecuteTime": {
     "end_time": "2025-05-02T16:27:57.293528Z",
     "start_time": "2025-05-02T16:27:57.288109Z"
    }
   },
   "cell_type": "code",
   "source": [
    "def xml2yolo(paths: Dict[str, Path]) -> Dict[str, int]:\n",
    "    \"\"\"Convert XML annotations to YOLO format with label mapping\"\"\"\n",
    "    name_map, missing = {}, []\n",
    "    for xml_file in paths[\"labels_path\"].glob(\"*.xml\"):\n",
    "        stem, img_path = xml_file.stem, paths[\"imgs_path\"]/(xml_file.stem + \".jpg\")\n",
    "        try:\n",
    "            img = Image.open(img_path)\n",
    "            root = ET.parse(xml_file).getroot()\n",
    "            with open(paths[\"yolo_labels_path\"]/(stem + \".txt\"), \"w\") as f:\n",
    "                for bc in root.findall(\".//Barcode\"):\n",
    "                    t = bc.get(\"Type\")\n",
    "                    name_map[t] = name_map.get(t, len(name_map))\n",
    "                    pts = [(int(p.get(\"X\")), int(p.get(\"Y\"))) for p in bc.findall(\".//Point\")]\n",
    "                    x_min, y_min = map(min, zip(*pts))\n",
    "                    x_max, y_max = map(max, zip(*pts))\n",
    "                    x, y = (x_min + x_max)/2/img.width, (y_min + y_max)/2/img.height\n",
    "                    w, h = (x_max - x_min)/img.width, (y_max - y_min)/img.height\n",
    "                    f.write(f\"{name_map[t]} {x:.4f} {y:.4f} {w:.4f} {h:.4f}\\n\")\n",
    "        except FileNotFoundError:\n",
    "            missing.append(stem)\n",
    "\n",
    "    print(f\"Converted {len(list(paths['labels_path'].glob('*.xml'))) - len(missing)} labels\")\n",
    "    if missing:\n",
    "        print(f\"Missing images for: {missing}\")\n",
    "    return name_map"
   ],
   "id": "e1ce85120232e059",
   "outputs": [],
   "execution_count": 33
  },
  {
   "metadata": {
    "ExecuteTime": {
     "end_time": "2025-05-02T16:27:57.307894Z",
     "start_time": "2025-05-02T16:27:57.302138Z"
    }
   },
   "cell_type": "code",
   "source": [
    "def split_dataset(paths: Dict[str, Path], splits: Tuple[float, float] = (0.1, 0.1)) -> None:\n",
    "    \"\"\"Create stratified splits and organize files\"\"\"\n",
    "    # Prepare data\n",
    "    files = [f.stem for f in paths[\"yolo_labels_path\"].glob(\"*.txt\")]\n",
    "    labels = {\n",
    "        f: [int(ln.split()[0]) for ln in (paths[\"yolo_labels_path\"] / (f + \".txt\")).read_text().splitlines()]\n",
    "        for f in files\n",
    "    }\n",
    "\n",
    "    max_len = max(len(ls) for ls in labels.values())\n",
    "    padded_labels = [ls + [0] * (max_len - len(ls)) for ls in labels.values()]\n",
    "\n",
    "    X = np.array(files).reshape(-1, 1)\n",
    "    y = np.array(padded_labels, dtype=np.int32)  # Ensure y contains integers\n",
    "    train_val_test_split = iterative_train_test_split(X, y, test_size=sum(splits))\n",
    "    train, val_test = train_val_test_split[0], train_val_test_split[2:]\n",
    "    val_test_split = iterative_train_test_split(val_test[0], val_test[1], test_size=splits[1] / sum(splits))\n",
    "    splits = {\n",
    "        \"train\": train.flatten(),\n",
    "        \"val\": val_test_split[0].flatten(),\n",
    "        \"test\": val_test_split[2].flatten(),\n",
    "    }\n",
    "\n",
    "    for split, data in splits.items():\n",
    "        split_path = paths[\"dataset_path\"] / split\n",
    "        split_path.mkdir(parents=True, exist_ok=True)\n",
    "        for dest in [\"images\", \"labels\"]:\n",
    "            (split_path / dest).mkdir(parents=True, exist_ok=True)\n",
    "        for stem in data:\n",
    "            shutil.copy(paths[\"imgs_path\"] / (stem + \".jpg\"), split_path / \"images\")\n",
    "            shutil.copy(paths[\"yolo_labels_path\"] / (stem + \".txt\"), split_path / \"labels\")"
   ],
   "id": "fc6264f2c5f3b7b",
   "outputs": [],
   "execution_count": 34
  },
  {
   "metadata": {
    "ExecuteTime": {
     "end_time": "2025-05-02T16:27:57.321796Z",
     "start_time": "2025-05-02T16:27:57.316432Z"
    }
   },
   "cell_type": "code",
   "source": [
    "def create_yolo_dataset(data_root_path: Path = Path(\"data\"),val_split: float = 0.1,\n",
    "                                                       test_split: float = 0.1,force_preprocess: bool = False) -> None:\n",
    "    paths = {\n",
    "        \"imgs_path\": data_root_path / \"Image\",\n",
    "        \"labels_path\": data_root_path / \"Markup\",\n",
    "        \"yolo_labels_path\": data_root_path / \"labels\",\n",
    "        \"dataset_path\": data_root_path / \"dataset\",\n",
    "    }\n",
    "\n",
    "    # Check existing dataset\n",
    "    if not force_preprocess and paths[\"dataset_path\"].exists():\n",
    "        print(\"Dataset already exists, skipping preprocessing\")\n",
    "        return\n",
    "\n",
    "    print(\"Starting dataset preprocessing...\")\n",
    "\n",
    "    for path in [\"yolo_labels_path\", \"dataset_path\"]:\n",
    "        shutil.rmtree(paths[path], ignore_errors=True)\n",
    "        paths[path].mkdir(parents=True)\n",
    "\n",
    "    convert_images(paths[\"imgs_path\"])\n",
    "    name_map = xml2yolo(paths)\n",
    "\n",
    "    split_dataset(paths, (val_split, test_split))\n",
    "    with open(paths[\"dataset_path\"]/\"dataset.yaml\", \"w\") as f:\n",
    "        yaml.dump({\n",
    "            \"train\": \"../train/images\",\n",
    "            \"val\": \"../val/images\",\n",
    "            \"test\": \"../test/images\",\n",
    "            \"nc\": len(name_map),\n",
    "            \"names\": list(name_map)}, f)"
   ],
   "id": "initial_id",
   "outputs": [],
   "execution_count": 35
  },
  {
   "metadata": {
    "ExecuteTime": {
     "end_time": "2025-05-02T16:28:03.057175Z",
     "start_time": "2025-05-02T16:27:57.330359Z"
    }
   },
   "cell_type": "code",
   "source": [
    "create_yolo_dataset(data_root_path=Path(\"ZVZ-real\"),\n",
    "                                            val_split=0.1,\n",
    "                                            test_split=0.1,\n",
    "                                            force_preprocess=False)"
   ],
   "id": "9d13c6ce59fe39cf",
   "outputs": [
    {
     "name": "stdout",
     "output_type": "stream",
     "text": [
      "Starting dataset preprocessing...\n",
      "Converted 921 images to JPG\n",
      "Converted 921 labels\n"
     ]
    }
   ],
   "execution_count": 36
  }
 ],
 "metadata": {
  "kernelspec": {
   "display_name": "Python 3",
   "language": "python",
   "name": "python3"
  },
  "language_info": {
   "codemirror_mode": {
    "name": "ipython",
    "version": 2
   },
   "file_extension": ".py",
   "mimetype": "text/x-python",
   "name": "python",
   "nbconvert_exporter": "python",
   "pygments_lexer": "ipython2",
   "version": "2.7.6"
  }
 },
 "nbformat": 4,
 "nbformat_minor": 5
}
